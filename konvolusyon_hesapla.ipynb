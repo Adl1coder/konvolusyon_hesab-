{
  "nbformat": 4,
  "nbformat_minor": 0,
  "metadata": {
    "colab": {
      "provenance": [],
      "authorship_tag": "ABX9TyPL5H3mHtV+FwS1spbKCWiZ",
      "include_colab_link": true
    },
    "kernelspec": {
      "name": "python3",
      "display_name": "Python 3"
    },
    "language_info": {
      "name": "python"
    }
  },
  "cells": [
    {
      "cell_type": "markdown",
      "metadata": {
        "id": "view-in-github",
        "colab_type": "text"
      },
      "source": [
        "<a href=\"https://colab.research.google.com/github/Adl1coder/konvolusyon_hesab-/blob/main/konvolusyon_hesapla.ipynb\" target=\"_parent\"><img src=\"https://colab.research.google.com/assets/colab-badge.svg\" alt=\"Open In Colab\"/></a>"
      ]
    },
    {
      "cell_type": "code",
      "execution_count": 1,
      "metadata": {
        "colab": {
          "base_uri": "https://localhost:8080/"
        },
        "id": "l8lRCk9qFide",
        "outputId": "d9c9b625-2efa-4ea5-d229-b45b4c5ea45d"
      },
      "outputs": [
        {
          "output_type": "stream",
          "name": "stdout",
          "text": [
            "[[0. 0.]\n",
            " [8. 0.]]\n"
          ]
        }
      ],
      "source": [
        "import numpy as np\n",
        "\n",
        "def hesapla(giris, kernel):\n",
        "\n",
        "  cikti = np.zeros((giris.shape[0] - kernel.shape[0] + 1,\n",
        "                     giris.shape[1] - kernel.shape[1] + 1))\n",
        "\n",
        "  for i in range(cikti.shape[0]):\n",
        "    for j in range(cikti.shape[1]):\n",
        "\n",
        "      pencere = giris[i:i + kernel.shape[0], j:j + kernel.shape[1]]\n",
        "      cikti[i, j] = np.sum(pencere * kernel)\n",
        "  return cikti\n",
        "giris = np.array([\n",
        "  [1, 2, 3, 0],\n",
        "  [0, 1, 2, 3],\n",
        "  [3, 0, 1, 2],\n",
        "  [2, 3, 0, 1]\n",
        "])\n",
        "kernel = np.array([\n",
        "  [0, 1, 0],\n",
        "  [1, -4, 1],\n",
        "  [0, 1, 0]\n",
        "])\n",
        "\n",
        "cikti = hesapla(giris, kernel)\n",
        "print(cikti)\n"
      ]
    },
    {
      "cell_type": "code",
      "source": [
        "def konvolusyon_hesapla(giris_matrisi, konvolusyon_matrisi):\n",
        "    g_m_row, g_m_col = len(giris_matrisi), len(giris_matrisi[0])\n",
        "    k_m_row, k_m_col = len(konvolusyon_matrisi), len(konvolusyon_matrisi[0])\n",
        "\n",
        "    cikti_matrisi = []\n",
        "\n",
        "    for i in range(g_m_row - k_m_row + 1):\n",
        "        satir = []\n",
        "        for j in range(g_m_col - k_m_col + 1):\n",
        "            carpimlar = []\n",
        "            for m in range(k_m_row):\n",
        "                for n in range(k_m_col):\n",
        "                    carpimlar.append(giris_matrisi[i + m][j + n] * konvolusyon_matrisi[m][n])\n",
        "            satir.append(sum(carpimlar))\n",
        "        cikti_matrisi.append(satir)\n",
        "\n",
        "    return cikti_matrisi\n",
        "\n",
        "giris_matrisi = [\n",
        "    [1, 2, 3, 0],\n",
        "    [0, 1, 2, 3],\n",
        "    [3, 0, 1, 2],\n",
        "    [2, 3, 0, 1]\n",
        "]\n",
        "\n",
        "konvolusyon_matrisi = [\n",
        "    [0, 1, 0],\n",
        "    [1, -4, 1],\n",
        "    [0, 1, 0]\n",
        "]\n",
        "\n",
        "print(\"Elle Hesaplanan Çıktı Matrisi:\")\n",
        "print(\"[[-1, 4, 5], [11, -3, 11], [4, 11, -1]]\")\n",
        "\n",
        "print(\"\\nKod ile Hesaplanan Çıktı Matrisi:\")\n",
        "print(konvolusyon_hesapla(giris_matrisi, konvolusyon_matrisi))\n"
      ],
      "metadata": {
        "colab": {
          "base_uri": "https://localhost:8080/"
        },
        "id": "FUkauG-1Jugh",
        "outputId": "2b7ff992-8b71-4117-beb4-2a1823dddd8b"
      },
      "execution_count": 3,
      "outputs": [
        {
          "output_type": "stream",
          "name": "stdout",
          "text": [
            "Elle Hesaplanan Çıktı Matrisi:\n",
            "[[-1, 4, 5], [11, -3, 11], [4, 11, -1]]\n",
            "\n",
            "Kod ile Hesaplanan Çıktı Matrisi:\n",
            "[[0, 0], [8, 0]]\n"
          ]
        }
      ]
    }
  ]
}